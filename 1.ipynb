{
 "cells": [
  {
   "cell_type": "markdown",
   "metadata": {},
   "source": [
    "# In this notebook I scraped my data from the two subreddits I have chosen, Alien Abduction and Sleep Paralysis.  I cleaned each dataset and read those to a csv, then I concated the datasets for modeling in notebook 2. Also, I copied the results from my web scraping into a markdown cell so you dont have to run it."
   ]
  },
  {
   "cell_type": "code",
   "execution_count": 1,
   "metadata": {},
   "outputs": [],
   "source": [
    "import numpy as np\n",
    "import matplotlib.pyplot as plt\n",
    "import scipy.stats as stats\n",
    "import pandas as pd\n",
    "import seaborn as sns\n",
    "import missingno as msno\n",
    "from sklearn.linear_model import LinearRegression\n",
    "from sklearn import metrics\n",
    "from sklearn.model_selection import train_test_split, cross_val_score\n",
    "from sklearn.metrics import mean_squared_error, r2_score\n",
    "from sklearn.preprocessing import StandardScaler, PolynomialFeatures\n",
    "import statsmodels.api as sm\n",
    "from sklearn.neighbors import KNeighborsClassifier\n",
    "from sklearn.metrics import confusion_matrix, plot_confusion_matrix\n",
    "from sklearn.metrics import roc_auc_score\n",
    "from sklearn.pipeline import Pipeline\n",
    "from bs4 import BeautifulSoup\n",
    "import time\n",
    "import requests\n",
    "import nltk\n",
    "from nltk.stem import WordNetLemmatizer\n",
    "from nltk.tokenize import sent_tokenize, word_tokenize, RegexpTokenizer\n",
    "import praw\n",
    "from nltk.stem.porter import PorterStemmer\n",
    "from nltk.corpus import stopwords\n",
    "import re\n",
    "from IPython.core.interactiveshell import InteractiveShell\n",
    "from sklearn.feature_extraction.text import CountVectorizer, TfidfVectorizer\n",
    "from sklearn.ensemble import RandomForestClassifier, ExtraTreesClassifier"
   ]
  },
  {
   "cell_type": "code",
   "execution_count": null,
   "metadata": {},
   "outputs": [],
   "source": [
    "InteractiveShell.ast_node_interactivity = \"all\""
   ]
  },
  {
   "cell_type": "code",
   "execution_count": 2,
   "metadata": {},
   "outputs": [],
   "source": [
    "url='https://www.reddit.com/'\n",
    "res=requests.get(url)"
   ]
  },
  {
   "cell_type": "code",
   "execution_count": 3,
   "metadata": {},
   "outputs": [],
   "source": [
    "reddit = praw.Reddit(client_id='qPz4QzW8_2s4eA', client_secret='hfYoCLBMIyGoFFt07mJGndLMBKg', user_agent='Reddit_JTJ2')"
   ]
  },
  {
   "cell_type": "markdown",
   "metadata": {},
   "source": [
    "### get 10 hot posts from Sleepparalysis key word to make sure i have the correct subreddit"
   ]
  },
  {
   "cell_type": "code",
   "execution_count": null,
   "metadata": {},
   "outputs": [],
   "source": [
    "\n",
    "#hot_posts_sp = reddit.subreddit('Sleepparalysis').hot(limit=10)\n",
    "#for post in hot_posts_sp:\n",
    "#    print(post.title)\n",
    "\n"
   ]
  },
  {
   "cell_type": "markdown",
   "metadata": {},
   "source": [
    "Identifying SP\n",
    "NSFW: My sleep paralysis experiences with rape and disturbing hallucinations. I’m experiencing this almost every night.\n",
    "The Times I Have Experienced Sleep Paralysis So Far\n",
    "I think I may have just had a sleep paralysis and it was terrifying.\n",
    "Defying the laws of physics - sleep paralysis?\n",
    "I had very weird sleep paralysis\n",
    "Few times a week lately\n",
    "just experienced sp for the first time\n",
    "Does anyone else experience this?\n",
    "BF hearing voices"
   ]
  },
  {
   "cell_type": "markdown",
   "metadata": {},
   "source": [
    "### I used praw to scrap up to 1000 posts from the Sleep Paralysis subreddit"
   ]
  },
  {
   "cell_type": "code",
   "execution_count": null,
   "metadata": {},
   "outputs": [],
   "source": [
    "#spdf = []\n",
    "#sp_subreddit = reddit.subreddit('Sleepparalysis')\n",
    "#for post in sp_subreddit.hot(limit=1000):\n",
    "#    spdf.append([post.title, post.score, post.id, post.subreddit, post.url, post.num_comments, post.selftext, post.created])\n",
    "#spdf = pd.DataFrame(spdf,columns=['title', 'score', 'id', 'subreddit', 'url', 'num_comments', 'body', 'created'])\n",
    "#print(spdf)\n"
   ]
  },
  {
   "cell_type": "markdown",
   "metadata": {},
   "source": [
    " title  score      id  \\\n",
    "0                                       Identifying SP    543  f8d1kj   \n",
    "1    NSFW: My sleep paralysis experiences with rape...     17  ieme6n   \n",
    "2    The Times I Have Experienced Sleep Paralysis S...      3  iek3u9   \n",
    "3    I think I may have just had a sleep paralysis ...     11  ieenbo   \n",
    "4       Defying the laws of physics - sleep paralysis?     14  ie7k6n   \n",
    "..                                                 ...    ...     ...   \n",
    "825                           My first sleep paralysis      6  h89oa8   \n",
    "826              From frightening to a more calm state      3  h84jff   \n",
    "827  My first sp experience and I hope I don’t have...     34  h7nnha   \n",
    "828  Anybody with recurring sleep paralyses moments...      7  h7uq2d   \n",
    "829    The story on how I got stuck in my lucid dream.      2  h7x1l6   \n",
    "\n",
    "          subreddit                                                url  \\\n",
    "0    Sleepparalysis  https://www.reddit.com/r/Sleepparalysis/commen...   \n",
    "1    Sleepparalysis  https://www.reddit.com/r/Sleepparalysis/commen...   \n",
    "2    Sleepparalysis  https://www.reddit.com/r/Sleepparalysis/commen...   \n",
    "3    Sleepparalysis  https://www.reddit.com/r/Sleepparalysis/commen...   \n",
    "4    Sleepparalysis  https://www.reddit.com/r/Sleepparalysis/commen...   \n",
    "..              ...                                                ...   \n",
    "825  Sleepparalysis  https://www.reddit.com/r/Sleepparalysis/commen...   \n",
    "826  Sleepparalysis  https://www.reddit.com/r/Sleepparalysis/commen...   \n",
    "827  Sleepparalysis  https://www.reddit.com/r/Sleepparalysis/commen...   \n",
    "828  Sleepparalysis  https://www.reddit.com/r/Sleepparalysis/commen...   \n",
    "829  Sleepparalysis  https://www.reddit.com/r/Sleepparalysis/commen...   \n",
    "\n",
    "     num_comments                                               body  \\\n",
    "0             177  I’m making this because 75% of this sub is peo...   \n",
    "1               7  Hi guys, I just found this sub and I’m honestl...   \n",
    "2               0  Aaaaaaaaaaaaaaaaalright I have quite a few sto...   \n",
    "3               7  It’s currently 8:57 and this took place probab...   \n",
    "4               4  Happened about 8 years ago but I still remembe...   \n",
    "..            ...                                                ...   \n",
    "825             0  It was scary at first since I have never had t...   \n",
    "826             1  I remember very vividly my first encounters wi...   \n",
    "827            20  I was laying face down but I could see my room...   \n",
    "828             3  So I’ve had this dream about 5 times now in th...   \n",
    "829             2  Usually I get sleep paralysis and it’s scary b...   \n",
    "\n",
    "          created  \n",
    "0    1.582510e+09  \n",
    "1    1.598146e+09  \n",
    "2    1.598138e+09  \n",
    "3    1.598112e+09  \n",
    "4    1.598080e+09  \n",
    "..            ...  \n",
    "825  1.592091e+09  \n",
    "826  1.592070e+09  \n",
    "827  1.592007e+09  \n",
    "828  1.592030e+09  \n",
    "829  1.592038e+09  \n",
    "\n",
    "[830 rows x 8 columns]"
   ]
  },
  {
   "cell_type": "markdown",
   "metadata": {},
   "source": [
    "### I wrote the raw data to a csv so I would not have to rerun everthing when I restarted my kernel."
   ]
  },
  {
   "cell_type": "code",
   "execution_count": null,
   "metadata": {},
   "outputs": [],
   "source": [
    "#spdf.to_csv('./data/SleepParalysisRAW.csv')"
   ]
  },
  {
   "cell_type": "code",
   "execution_count": 2,
   "metadata": {},
   "outputs": [],
   "source": [
    "sleeppardf=pd.read_csv('./data/SleepParalysisRAW.csv')"
   ]
  },
  {
   "cell_type": "markdown",
   "metadata": {},
   "source": [
    "### I found the nulls in the data set and filled them with 0s, and I dropped unneeded columns."
   ]
  },
  {
   "cell_type": "code",
   "execution_count": 3,
   "metadata": {},
   "outputs": [
    {
     "data": {
      "text/plain": [
       "Unnamed: 0       0\n",
       "title            0\n",
       "score            0\n",
       "id               0\n",
       "subreddit        0\n",
       "url              0\n",
       "num_comments     0\n",
       "body            10\n",
       "created          0\n",
       "dtype: int64"
      ]
     },
     "execution_count": 3,
     "metadata": {},
     "output_type": "execute_result"
    }
   ],
   "source": [
    "sleeppardf.isnull().sum()"
   ]
  },
  {
   "cell_type": "code",
   "execution_count": 4,
   "metadata": {},
   "outputs": [],
   "source": [
    "sleeppardf['body'].fillna(0,inplace=True)"
   ]
  },
  {
   "cell_type": "code",
   "execution_count": 5,
   "metadata": {},
   "outputs": [],
   "source": [
    "sleeppardf=sleeppardf.drop(columns=['score','url','id','created','Unnamed: 0'])"
   ]
  },
  {
   "cell_type": "code",
   "execution_count": null,
   "metadata": {},
   "outputs": [],
   "source": []
  },
  {
   "cell_type": "code",
   "execution_count": 6,
   "metadata": {},
   "outputs": [
    {
     "data": {
      "text/html": [
       "<div>\n",
       "<style scoped>\n",
       "    .dataframe tbody tr th:only-of-type {\n",
       "        vertical-align: middle;\n",
       "    }\n",
       "\n",
       "    .dataframe tbody tr th {\n",
       "        vertical-align: top;\n",
       "    }\n",
       "\n",
       "    .dataframe thead th {\n",
       "        text-align: right;\n",
       "    }\n",
       "</style>\n",
       "<table border=\"1\" class=\"dataframe\">\n",
       "  <thead>\n",
       "    <tr style=\"text-align: right;\">\n",
       "      <th></th>\n",
       "      <th>title</th>\n",
       "      <th>subreddit</th>\n",
       "      <th>num_comments</th>\n",
       "      <th>body</th>\n",
       "    </tr>\n",
       "  </thead>\n",
       "  <tbody>\n",
       "    <tr>\n",
       "      <th>0</th>\n",
       "      <td>Identifying SP</td>\n",
       "      <td>Sleepparalysis</td>\n",
       "      <td>177</td>\n",
       "      <td>I’m making this because 75% of this sub is peo...</td>\n",
       "    </tr>\n",
       "    <tr>\n",
       "      <th>1</th>\n",
       "      <td>is it normal to experience sleep paralysis mul...</td>\n",
       "      <td>Sleepparalysis</td>\n",
       "      <td>19</td>\n",
       "      <td>for background, ive missed a couple doses of m...</td>\n",
       "    </tr>\n",
       "    <tr>\n",
       "      <th>2</th>\n",
       "      <td>oh no</td>\n",
       "      <td>Sleepparalysis</td>\n",
       "      <td>0</td>\n",
       "      <td>isn’t water just a snowman’s blood?? 🤯🤯🤔🤔</td>\n",
       "    </tr>\n",
       "    <tr>\n",
       "      <th>3</th>\n",
       "      <td>Something that works for me with preventing SP...</td>\n",
       "      <td>Sleepparalysis</td>\n",
       "      <td>1</td>\n",
       "      <td>Not sure it will work for other people but it ...</td>\n",
       "    </tr>\n",
       "    <tr>\n",
       "      <th>4</th>\n",
       "      <td>The moment I fall asleep I wake up in a panic ...</td>\n",
       "      <td>Sleepparalysis</td>\n",
       "      <td>0</td>\n",
       "      <td>This has only been happening for a few months....</td>\n",
       "    </tr>\n",
       "  </tbody>\n",
       "</table>\n",
       "</div>"
      ],
      "text/plain": [
       "                                               title       subreddit  \\\n",
       "0                                     Identifying SP  Sleepparalysis   \n",
       "1  is it normal to experience sleep paralysis mul...  Sleepparalysis   \n",
       "2                                              oh no  Sleepparalysis   \n",
       "3  Something that works for me with preventing SP...  Sleepparalysis   \n",
       "4  The moment I fall asleep I wake up in a panic ...  Sleepparalysis   \n",
       "\n",
       "   num_comments                                               body  \n",
       "0           177  I’m making this because 75% of this sub is peo...  \n",
       "1            19  for background, ive missed a couple doses of m...  \n",
       "2             0          isn’t water just a snowman’s blood?? 🤯🤯🤔🤔  \n",
       "3             1  Not sure it will work for other people but it ...  \n",
       "4             0  This has only been happening for a few months....  "
      ]
     },
     "execution_count": 6,
     "metadata": {},
     "output_type": "execute_result"
    }
   ],
   "source": [
    "sleeppardf.head(5)"
   ]
  },
  {
   "cell_type": "markdown",
   "metadata": {},
   "source": [
    "### I wrote the cleaned data back to a csv"
   ]
  },
  {
   "cell_type": "code",
   "execution_count": 7,
   "metadata": {},
   "outputs": [],
   "source": [
    "#sleeppardf.to_csv('./data/SleepParalysisCLEANED.csv')"
   ]
  },
  {
   "cell_type": "code",
   "execution_count": null,
   "metadata": {},
   "outputs": [],
   "source": []
  },
  {
   "cell_type": "markdown",
   "metadata": {},
   "source": [
    "## NOW FOR ALIEN ABDUCTIONS"
   ]
  },
  {
   "cell_type": "code",
   "execution_count": null,
   "metadata": {},
   "outputs": [],
   "source": [
    "#hot_posts = reddit.subreddit('Abductions').hot(limit=10)\n",
    "#for post in hot_posts:\n",
    "#    print(post.title)"
   ]
  },
  {
   "cell_type": "code",
   "execution_count": null,
   "metadata": {},
   "outputs": [],
   "source": [
    "#Adf = []\n",
    "#ALabduction_subreddit = reddit.subreddit('Abductions')\n",
    "#for post in ALabduction_subreddit.hot(limit=1000):\n",
    "#    Adf.append([post.title, post.score, post.id, post.subreddit, post.url, post.num_comments, post.selftext, post.created])\n",
    "#Adf = pd.DataFrame(Adf,columns=['title', 'score', 'id', 'subreddit', 'url', 'num_comments', 'body', 'created'])\n",
    "#print(Adf)"
   ]
  },
  {
   "cell_type": "markdown",
   "metadata": {},
   "source": [
    "                             title  score      id  \\\n",
    "0    25 Space Facts That Will Both Terrify And Amaz...      8  iealx8   \n",
    "1                                    BF hearing voices      7  ie8owi   \n",
    "2                                  Is Blue Ink a Sign?      5  icpeh4   \n",
    "3    Mauritius oil spill: Experts fear catastrophic...      3  icdn52   \n",
    "4             Should I continue posting Finding Truth?      7  ibiwsw   \n",
    "..                                                 ...    ...     ...   \n",
    "599                                     My Experiences     17  3gl7gk   \n",
    "600                                         I Was Five      7  3gjk28   \n",
    "601          The Zanfretta Abductions (Your thoughts?)      8  3gcbno   \n",
    "602           The Hill Abduction Case (Your thoughts?)      6  3gcagq   \n",
    "603                                   Aboard the ship.     11  3g95cl   \n",
    "\n",
    "      subreddit                                                url  \\\n",
    "0    Abductions  https://www.igorbnews.com/2020/07/25-space-fac...   \n",
    "1    Abductions  https://www.reddit.com/r/Abductions/comments/i...   \n",
    "2    Abductions  https://www.reddit.com/r/Abductions/comments/i...   \n",
    "3    Abductions  https://www.igorbnews.com/2020/08/mauritius-oi...   \n",
    "4    Abductions  https://www.reddit.com/r/Abductions/comments/i...   \n",
    "..          ...                                                ...   \n",
    "599  Abductions  https://www.reddit.com/r/Abductions/comments/3...   \n",
    "600  Abductions  https://www.reddit.com/r/Abductions/comments/3...   \n",
    "601  Abductions  https://www.reddit.com/r/Abductions/comments/3...   \n",
    "602  Abductions  https://www.reddit.com/r/Abductions/comments/3...   \n",
    "603  Abductions  https://www.reddit.com/r/Abductions/comments/3...   \n",
    "\n",
    "     num_comments                                               body  \\\n",
    "0               0                                                      \n",
    "1               5  So my boyfriend just shared with me his experi...   \n",
    "2               1  When I was a teen I would go to my dads house ...   \n",
    "3               4                                                      \n",
    "4              17  Let's have it already.\\n\\n[View Poll](https://...   \n",
    "..            ...                                                ...   \n",
    "599            11  It first began when I was 7 years old. One sum...   \n",
    "600            10   My first memories began in this house. Centra...   \n",
    "601             0  [The Zanfretta Abductions](https://www.youtube...   \n",
    "602             6  [The Hill Abduction Case](https://www.youtube....   \n",
    "603             6  I had an abduction experience,It started with ...   \n",
    "\n",
    "          created  \n",
    "0    1.598092e+09  \n",
    "1    1.598085e+09  \n",
    "2    1.597878e+09  \n",
    "3    1.597827e+09  \n",
    "4    1.597715e+09  \n",
    "..            ...  \n",
    "599  1.439327e+09  \n",
    "600  1.439289e+09  \n",
    "601  1.439150e+09  \n",
    "602  1.439148e+09  \n",
    "603  1.439078e+09  \n",
    "\n",
    "[604 rows x 8 columns]"
   ]
  },
  {
   "cell_type": "code",
   "execution_count": null,
   "metadata": {},
   "outputs": [],
   "source": [
    "# wrote the raw data to csv file\n",
    "#Adf.to_csv('./data/AlienAbductionsRAW.csv',index=False)"
   ]
  },
  {
   "cell_type": "code",
   "execution_count": 8,
   "metadata": {},
   "outputs": [],
   "source": [
    "Adf=pd.read_csv('./data/AlienAbductionsRAW.csv')"
   ]
  },
  {
   "cell_type": "code",
   "execution_count": null,
   "metadata": {},
   "outputs": [],
   "source": [
    "Adf.head()"
   ]
  },
  {
   "cell_type": "markdown",
   "metadata": {},
   "source": [
    "### I found the nulls in the data set and filled them with 0s, and I dropped unneeded columns."
   ]
  },
  {
   "cell_type": "code",
   "execution_count": 9,
   "metadata": {},
   "outputs": [
    {
     "data": {
      "text/plain": [
       "title             0\n",
       "score             0\n",
       "id                0\n",
       "subreddit         0\n",
       "url               0\n",
       "num_comments      0\n",
       "body            174\n",
       "created           0\n",
       "dtype: int64"
      ]
     },
     "execution_count": 9,
     "metadata": {},
     "output_type": "execute_result"
    }
   ],
   "source": [
    "Adf.isnull().sum()"
   ]
  },
  {
   "cell_type": "code",
   "execution_count": 10,
   "metadata": {},
   "outputs": [],
   "source": [
    "Adf['body'].fillna(0,inplace=True)"
   ]
  },
  {
   "cell_type": "code",
   "execution_count": 11,
   "metadata": {},
   "outputs": [],
   "source": [
    "Adf=Adf.drop(columns=['score','id','created','url'])"
   ]
  },
  {
   "cell_type": "code",
   "execution_count": 12,
   "metadata": {},
   "outputs": [
    {
     "data": {
      "text/html": [
       "<div>\n",
       "<style scoped>\n",
       "    .dataframe tbody tr th:only-of-type {\n",
       "        vertical-align: middle;\n",
       "    }\n",
       "\n",
       "    .dataframe tbody tr th {\n",
       "        vertical-align: top;\n",
       "    }\n",
       "\n",
       "    .dataframe thead th {\n",
       "        text-align: right;\n",
       "    }\n",
       "</style>\n",
       "<table border=\"1\" class=\"dataframe\">\n",
       "  <thead>\n",
       "    <tr style=\"text-align: right;\">\n",
       "      <th></th>\n",
       "      <th>title</th>\n",
       "      <th>subreddit</th>\n",
       "      <th>num_comments</th>\n",
       "      <th>body</th>\n",
       "    </tr>\n",
       "  </thead>\n",
       "  <tbody>\n",
       "    <tr>\n",
       "      <th>0</th>\n",
       "      <td>25 Space Facts That Will Both Terrify And Amaz...</td>\n",
       "      <td>Abductions</td>\n",
       "      <td>0</td>\n",
       "      <td>0</td>\n",
       "    </tr>\n",
       "    <tr>\n",
       "      <th>1</th>\n",
       "      <td>BF hearing voices</td>\n",
       "      <td>Abductions</td>\n",
       "      <td>5</td>\n",
       "      <td>So my boyfriend just shared with me his experi...</td>\n",
       "    </tr>\n",
       "    <tr>\n",
       "      <th>2</th>\n",
       "      <td>Is Blue Ink a Sign?</td>\n",
       "      <td>Abductions</td>\n",
       "      <td>1</td>\n",
       "      <td>When I was a teen I would go to my dads house ...</td>\n",
       "    </tr>\n",
       "    <tr>\n",
       "      <th>3</th>\n",
       "      <td>Mauritius oil spill: Experts fear catastrophic...</td>\n",
       "      <td>Abductions</td>\n",
       "      <td>4</td>\n",
       "      <td>0</td>\n",
       "    </tr>\n",
       "    <tr>\n",
       "      <th>4</th>\n",
       "      <td>Should I continue posting Finding Truth?</td>\n",
       "      <td>Abductions</td>\n",
       "      <td>17</td>\n",
       "      <td>Let's have it already.\\n\\n[View Poll](https://...</td>\n",
       "    </tr>\n",
       "  </tbody>\n",
       "</table>\n",
       "</div>"
      ],
      "text/plain": [
       "                                               title   subreddit  \\\n",
       "0  25 Space Facts That Will Both Terrify And Amaz...  Abductions   \n",
       "1                                  BF hearing voices  Abductions   \n",
       "2                                Is Blue Ink a Sign?  Abductions   \n",
       "3  Mauritius oil spill: Experts fear catastrophic...  Abductions   \n",
       "4           Should I continue posting Finding Truth?  Abductions   \n",
       "\n",
       "   num_comments                                               body  \n",
       "0             0                                                  0  \n",
       "1             5  So my boyfriend just shared with me his experi...  \n",
       "2             1  When I was a teen I would go to my dads house ...  \n",
       "3             4                                                  0  \n",
       "4            17  Let's have it already.\\n\\n[View Poll](https://...  "
      ]
     },
     "execution_count": 12,
     "metadata": {},
     "output_type": "execute_result"
    }
   ],
   "source": [
    "Adf.head(5)"
   ]
  },
  {
   "cell_type": "code",
   "execution_count": 13,
   "metadata": {},
   "outputs": [],
   "source": [
    "#Adf.to_csv('./data/AlienAbductionsCLEANED.csv')"
   ]
  },
  {
   "cell_type": "markdown",
   "metadata": {},
   "source": [
    "### I combined the Alien Abduction and Sleep Paralysis datasets together"
   ]
  },
  {
   "cell_type": "code",
   "execution_count": 14,
   "metadata": {},
   "outputs": [],
   "source": [
    "df = pd.concat([Adf, sleeppardf])"
   ]
  },
  {
   "cell_type": "code",
   "execution_count": 15,
   "metadata": {},
   "outputs": [
    {
     "data": {
      "text/html": [
       "<div>\n",
       "<style scoped>\n",
       "    .dataframe tbody tr th:only-of-type {\n",
       "        vertical-align: middle;\n",
       "    }\n",
       "\n",
       "    .dataframe tbody tr th {\n",
       "        vertical-align: top;\n",
       "    }\n",
       "\n",
       "    .dataframe thead th {\n",
       "        text-align: right;\n",
       "    }\n",
       "</style>\n",
       "<table border=\"1\" class=\"dataframe\">\n",
       "  <thead>\n",
       "    <tr style=\"text-align: right;\">\n",
       "      <th></th>\n",
       "      <th>title</th>\n",
       "      <th>subreddit</th>\n",
       "      <th>num_comments</th>\n",
       "      <th>body</th>\n",
       "    </tr>\n",
       "  </thead>\n",
       "  <tbody>\n",
       "    <tr>\n",
       "      <th>0</th>\n",
       "      <td>25 Space Facts That Will Both Terrify And Amaz...</td>\n",
       "      <td>Abductions</td>\n",
       "      <td>0</td>\n",
       "      <td>0</td>\n",
       "    </tr>\n",
       "    <tr>\n",
       "      <th>1</th>\n",
       "      <td>BF hearing voices</td>\n",
       "      <td>Abductions</td>\n",
       "      <td>5</td>\n",
       "      <td>So my boyfriend just shared with me his experi...</td>\n",
       "    </tr>\n",
       "    <tr>\n",
       "      <th>2</th>\n",
       "      <td>Is Blue Ink a Sign?</td>\n",
       "      <td>Abductions</td>\n",
       "      <td>1</td>\n",
       "      <td>When I was a teen I would go to my dads house ...</td>\n",
       "    </tr>\n",
       "    <tr>\n",
       "      <th>3</th>\n",
       "      <td>Mauritius oil spill: Experts fear catastrophic...</td>\n",
       "      <td>Abductions</td>\n",
       "      <td>4</td>\n",
       "      <td>0</td>\n",
       "    </tr>\n",
       "    <tr>\n",
       "      <th>4</th>\n",
       "      <td>Should I continue posting Finding Truth?</td>\n",
       "      <td>Abductions</td>\n",
       "      <td>17</td>\n",
       "      <td>Let's have it already.\\n\\n[View Poll](https://...</td>\n",
       "    </tr>\n",
       "  </tbody>\n",
       "</table>\n",
       "</div>"
      ],
      "text/plain": [
       "                                               title   subreddit  \\\n",
       "0  25 Space Facts That Will Both Terrify And Amaz...  Abductions   \n",
       "1                                  BF hearing voices  Abductions   \n",
       "2                                Is Blue Ink a Sign?  Abductions   \n",
       "3  Mauritius oil spill: Experts fear catastrophic...  Abductions   \n",
       "4           Should I continue posting Finding Truth?  Abductions   \n",
       "\n",
       "   num_comments                                               body  \n",
       "0             0                                                  0  \n",
       "1             5  So my boyfriend just shared with me his experi...  \n",
       "2             1  When I was a teen I would go to my dads house ...  \n",
       "3             4                                                  0  \n",
       "4            17  Let's have it already.\\n\\n[View Poll](https://...  "
      ]
     },
     "execution_count": 15,
     "metadata": {},
     "output_type": "execute_result"
    }
   ],
   "source": [
    "df.head()"
   ]
  },
  {
   "cell_type": "markdown",
   "metadata": {},
   "source": [
    "### I got dummies for the Subreddit column and wrote the new combined df to csv"
   ]
  },
  {
   "cell_type": "code",
   "execution_count": 18,
   "metadata": {},
   "outputs": [],
   "source": [
    "df=pd.get_dummies(df,columns=['subreddit'],drop_first=True)"
   ]
  },
  {
   "cell_type": "code",
   "execution_count": 20,
   "metadata": {},
   "outputs": [],
   "source": [
    "df['subreddit2']=df['subreddit_Sleepparalysis']"
   ]
  },
  {
   "cell_type": "code",
   "execution_count": 21,
   "metadata": {},
   "outputs": [],
   "source": [
    "df=df.drop(columns=['subreddit_Sleepparalysis'])"
   ]
  },
  {
   "cell_type": "code",
   "execution_count": 23,
   "metadata": {},
   "outputs": [],
   "source": [
    "df.to_csv('./data/AlienAbductionsSleepParalysisCLEANED.csv',index=False)"
   ]
  },
  {
   "cell_type": "code",
   "execution_count": null,
   "metadata": {},
   "outputs": [],
   "source": []
  }
 ],
 "metadata": {
  "kernelspec": {
   "display_name": "Python 3",
   "language": "python",
   "name": "python3"
  },
  "language_info": {
   "codemirror_mode": {
    "name": "ipython",
    "version": 3
   },
   "file_extension": ".py",
   "mimetype": "text/x-python",
   "name": "python",
   "nbconvert_exporter": "python",
   "pygments_lexer": "ipython3",
   "version": "3.7.7"
  }
 },
 "nbformat": 4,
 "nbformat_minor": 4
}
